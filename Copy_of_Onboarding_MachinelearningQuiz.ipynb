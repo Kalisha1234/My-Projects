{
  "nbformat": 4,
  "nbformat_minor": 0,
  "metadata": {
    "colab": {
      "provenance": [],
      "authorship_tag": "ABX9TyM6U4XqtwHRrXX9FvvmVlTm",
      "include_colab_link": true
    },
    "kernelspec": {
      "name": "python3",
      "display_name": "Python 3"
    },
    "language_info": {
      "name": "python"
    }
  },
  "cells": [
    {
      "cell_type": "markdown",
      "metadata": {
        "id": "view-in-github",
        "colab_type": "text"
      },
      "source": [
        "<a href=\"https://colab.research.google.com/github/Kalisha1234/My-Projects/blob/main/Copy_of_Onboarding_MachinelearningQuiz.ipynb\" target=\"_parent\"><img src=\"https://colab.research.google.com/assets/colab-badge.svg\" alt=\"Open In Colab\"/></a>"
      ]
    },
    {
      "cell_type": "code",
      "execution_count": null,
      "metadata": {
        "id": "lA0HP09O1CBR"
      },
      "outputs": [],
      "source": []
    },
    {
      "cell_type": "markdown",
      "source": [],
      "metadata": {
        "id": "gD9fq3Zy1C6M"
      }
    },
    {
      "cell_type": "markdown",
      "source": [
        "Question 2 A decorator feature in Python wraps in a function, appends several functionalities to existing code and then returns it"
      ],
      "metadata": {
        "id": "tZdBF_5z1aWF"
      }
    },
    {
      "cell_type": "markdown",
      "source": [],
      "metadata": {
        "id": "yah3CGzE1e0i"
      }
    },
    {
      "cell_type": "markdown",
      "source": [
        "Question 1\n",
        "We can avoid repeating the same code. This does not only makes the code shorter but also reduces the chance of errors. Functions make it easier to test and debug the code"
      ],
      "metadata": {
        "id": "5OA-w0Dn1e67"
      }
    },
    {
      "cell_type": "markdown",
      "source": [
        "Question 3\n",
        "Python decorator property is used to define methods that can be accessed like attributes and providing a way to control access to an object's attributes and add additional behaviors like validation and transformation."
      ],
      "metadata": {
        "id": "Ic0gip-K1G4j"
      }
    },
    {
      "cell_type": "markdown",
      "source": [],
      "metadata": {
        "id": "FBpN0sPS1LUY"
      }
    },
    {
      "cell_type": "markdown",
      "source": [
        "Question 4\n",
        "1. Import cell\n",
        "2. Creating a module\n",
        "3. Using classes\n",
        "4. Using command line argument\n",
        "5. Write to read from files\n",
        "6. Keep your scripts modular and well-organized to facilitate interaction between them."
      ],
      "metadata": {
        "id": "Ft8IV_J61mJZ"
      }
    },
    {
      "cell_type": "markdown",
      "source": [
        "Question 5\n",
        "In Python, this means something went wrong with reading from or writing to a file. Just like you wouldn't want to play without your favorite toy, a computer program also needs to know what to do when it encounters an IOError. So, Python stops the program and tells us what happened."
      ],
      "metadata": {
        "id": "yHket5yL1sZS"
      }
    },
    {
      "cell_type": "markdown",
      "source": [
        "Question 11\n",
        "A syntax error in Python occurs when the Python interpreter encounters code that it cannot understand or process. This usually happens when the code violates Python's rules for how statements should be structured. For instance, forgetting to close a parenthesis or misspelling a keyword can lead to a syntax error."
      ],
      "metadata": {
        "id": "S9eWcGM11w4s"
      }
    },
    {
      "cell_type": "markdown",
      "source": [
        "Question 12\n",
        "A semantic error in Python is an error in logic. It's when the code runs without crashing, but it doesn't produce the expected output or behaves differently than intended."
      ],
      "metadata": {
        "id": "BVVw8Lkb10q4"
      }
    },
    {
      "cell_type": "markdown",
      "source": [
        "Question 13\n",
        "Fixing synthax error cIdentifyodes\n",
        "1.  the error\n",
        "2. Carefully read error message\n",
        "3. Check the code\n",
        "4. Correct the error\n",
        "Fixing semantic error codes\n",
        "1. Identify the error\n",
        "2. Read and understand the code\n",
        "3. Apply code fixes\n",
        "4. Run and validate the fix"
      ],
      "metadata": {
        "id": "r_ToqWNY14on"
      }
    },
    {
      "cell_type": "code",
      "source": [
        "#Question 10\n",
        "\n",
        "## Create an empty dictionary to store the books\n",
        "library = {}\n",
        "\n",
        "# Add a book to the library\n",
        "def add_book(title, author, year, pages):\n",
        "   # Create a dictionary for the book\n",
        "   book = {\n",
        "       'title': title,\n",
        "       'author': author,\n",
        "       'year': year,\n",
        "       'pages': pages\n",
        "   }\n",
        "    # Add the book to the library using its title as the key\n",
        "   library[title] = book\n",
        "\n",
        "# Example usage:\n",
        "add_book('The Great Gatsby', 'F. Scott Fitzgerald', 1925, 180)\n",
        "add_book('Moby Dick', 'Herman Melville', 1851, 378)\n",
        "# Print the library\n",
        "for title, book in library.items():\n",
        "   print(f\"{book['title']} by {book['author']} was published in {book['year']}. It has {book['pages']} pages.\")\n"
      ],
      "metadata": {
        "id": "E4iaBTWD17wn"
      },
      "execution_count": null,
      "outputs": []
    },
    {
      "cell_type": "code",
      "source": [
        "#Question 8\n",
        "\n",
        "def eval_loop():\n",
        "   while True:\n",
        "       expr = input(\"Enter an expression or 'done' to finish: \")\n",
        "       if expr == 'done':\n",
        "           break\n",
        "       else:\n",
        "           try:\n",
        "               result = eval(expr)\n",
        "               print(result)\n",
        "           except Exception as e:\n",
        "               print(f\"Invalid expression: {e}\")"
      ],
      "metadata": {
        "id": "rJ2DRQFc2L2j"
      },
      "execution_count": null,
      "outputs": []
    }
  ]
}