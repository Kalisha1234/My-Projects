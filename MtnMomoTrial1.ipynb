{
  "nbformat": 4,
  "nbformat_minor": 0,
  "metadata": {
    "colab": {
      "provenance": [],
      "authorship_tag": "ABX9TyPq7jt8ekgzPXWsYTPKDQpx",
      "include_colab_link": true
    },
    "kernelspec": {
      "name": "python3",
      "display_name": "Python 3"
    },
    "language_info": {
      "name": "python"
    }
  },
  "cells": [
    {
      "cell_type": "markdown",
      "metadata": {
        "id": "view-in-github",
        "colab_type": "text"
      },
      "source": [
        "<a href=\"https://colab.research.google.com/github/Kalisha1234/My-Projects/blob/main/MtnMomoTrial1.ipynb\" target=\"_parent\"><img src=\"https://colab.research.google.com/assets/colab-badge.svg\" alt=\"Open In Colab\"/></a>"
      ]
    },
    {
      "cell_type": "code",
      "execution_count": null,
      "metadata": {
        "colab": {
          "base_uri": "https://localhost:8080/"
        },
        "id": "dgy_VZ1HGtRP",
        "outputId": "b7a05f34-6fe0-4499-eb0b-65dc15405f9e"
      },
      "outputs": [
        {
          "name": "stdout",
          "output_type": "stream",
          "text": [
            "Welcome To MTN MoMo\n",
            "Enter USSD *170#\n",
            "1. Transfer Money\n",
            "2. MoMoPay & Pay Bill\n",
            "3. Airtime & Bundles\n",
            "4. Cash Out\n",
            "5. Financial Services\n",
            "6. My Wallet\n",
            "Enter an Option\n",
            "1\n",
            "1. MoMo User\n",
            "2. Non MoMo user\n",
            "3. Send with Care\n",
            "4. Favorite\n",
            "5. Other Networks\n",
            "6. Bank Account\n",
            "0. Back\n",
            "Enter an option: 1\n",
            "Enter mobile number: 045\n",
            "Confirm number: 045\n",
            "Reference 34\n"
          ]
        }
      ],
      "source": [
        "\n",
        "print(\"Welcome To MTN MoMo\")\n",
        "pin = input(\"Enter USSD \")\n",
        "\n",
        "if pin == \"*170#\" :\n",
        "    print(\"1. Transfer Money\")\n",
        "    print(\"2. MoMoPay & Pay Bill\")\n",
        "    print(\"3. Airtime & Bundles\")\n",
        "    print(\"4. Cash Out\")\n",
        "    print(\"5. Financial Services\")\n",
        "    print(\"6. My Wallet\")\n",
        "\n",
        "    print(\"Enter an Option\")\n",
        "    opt = input()\n",
        "    if opt == \"4\" :\n",
        "        print(\"Allow Cash out\")\n",
        "        print(\"1. Yes\")\n",
        "        print(\"2. No\")\n",
        "        print(\"3. Back\")\n",
        "        OptCashOut = input(\"Enter an option: \")\n",
        "        if OptCashOut == \"1\":\n",
        "            print(\"Cash out allowed\")\n",
        "        elif OptCashOut == \"2\":\n",
        "            print(\"Cash out not allowed\")\n",
        "        #elif OptCashOut == 3:\n",
        "            #print(\"\")\n",
        "        else:\n",
        "            print(\"Invalid entry\")\n",
        "\n",
        "    elif opt == \"1\":\n",
        "        print(\"1. MoMo User\")\n",
        "        print(\"2. Non MoMo user\")\n",
        "        print(\"3. Send with Care\")\n",
        "        print(\"4. Favorite\")\n",
        "        print(\"5. Other Networks\")\n",
        "        print(\"6. Bank Account\")\n",
        "        print(\"0. Back\")\n",
        "\n",
        "        OptTransMoney =input(\"Enter an option: \")\n",
        "        if OptTransMoney == \"1\" :\n",
        "            num1 = input(\"Enter mobile number: \")\n",
        "            num2 = input(\"Confirm number: \")\n",
        "            if num1 == num2:\n",
        "                input(\"Reference \")\n",
        "            else:\n",
        "                print(\"Number Mismatched\")\n",
        "\n",
        "\n",
        "\n",
        "else :\n",
        "    print(\"Enter a valid pin\")\n"
      ]
    }
  ]
}