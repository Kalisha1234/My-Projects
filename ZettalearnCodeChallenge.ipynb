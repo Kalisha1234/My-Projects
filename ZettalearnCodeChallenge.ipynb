{
  "nbformat": 4,
  "nbformat_minor": 0,
  "metadata": {
    "colab": {
      "provenance": [],
      "authorship_tag": "ABX9TyPvBpsWyM/KPlUI7b+Cyxu+",
      "include_colab_link": true
    },
    "kernelspec": {
      "name": "python3",
      "display_name": "Python 3"
    },
    "language_info": {
      "name": "python"
    }
  },
  "cells": [
    {
      "cell_type": "markdown",
      "metadata": {
        "id": "view-in-github",
        "colab_type": "text"
      },
      "source": [
        "<a href=\"https://colab.research.google.com/github/Kalisha1234/My-Projects/blob/main/ZettalearnCodeChallenge.ipynb\" target=\"_parent\"><img src=\"https://colab.research.google.com/assets/colab-badge.svg\" alt=\"Open In Colab\"/></a>"
      ]
    },
    {
      "cell_type": "code",
      "execution_count": 1,
      "metadata": {
        "id": "H9ZGuazZKzJC",
        "colab": {
          "base_uri": "https://localhost:8080/"
        },
        "outputId": "735fa6c8-bef5-47c9-c054-c1a638a30108"
      },
      "outputs": [
        {
          "output_type": "stream",
          "name": "stdout",
          "text": [
            "11\n"
          ]
        }
      ],
      "source": [
        "#part one\n",
        "def Shift(integer, letter):\n",
        "    if letter.islower():\n",
        "        letter_value = ord(letter) - ord('a') + 1\n",
        "    else:\n",
        "        letter_value = ord(letter) - ord('A') + 1\n",
        "    # Add the integer value to the letter's integer representation\n",
        "    result = letter_value + integer\n",
        "    return result\n",
        "\n",
        "shifted_value = Shift(9, 'B')\n",
        "print(shifted_value)"
      ]
    },
    {
      "cell_type": "code",
      "source": [
        "#part two\n",
        "def Shift(integer, letter):\n",
        "    shifted_values = []\n",
        "\n",
        "    for char in letter:\n",
        "        if char.isalpha():\n",
        "            if char.islower():\n",
        "                letter_value = ord(char) - ord('a') +  1\n",
        "            else:\n",
        "                letter_value = ord(char) - ord('A') +  1\n",
        "            result = letter_value + integer\n",
        "            shifted_values.append(result)\n",
        "        else:\n",
        "            shifted_values.append(-1)\n",
        "\n",
        "    return shifted_values\n",
        "shifted_values_list = Shift(3, \"I will be great scientist\")\n",
        "print(shifted_values_list)\n"
      ],
      "metadata": {
        "id": "5woVmdVd9RGY",
        "colab": {
          "base_uri": "https://localhost:8080/"
        },
        "outputId": "cad769ca-dd73-4fec-8bea-9923cb7126c8"
      },
      "execution_count": 3,
      "outputs": [
        {
          "output_type": "stream",
          "name": "stdout",
          "text": [
            "[12, -1, 26, 12, 15, 15, -1, 5, 8, -1, 10, 21, 8, 4, 23, -1, 22, 6, 12, 8, 17, 23, 12, 22, 23]\n"
          ]
        }
      ]
    },
    {
      "cell_type": "code",
      "source": [
        "#part three\n",
        "def Shift(value, letter):\n",
        "    # Step  1 &  2: Convert the letter to its ASCII value and add the given integer\n",
        "    ascii_value = ord(letter) + value\n",
        "\n",
        "    # Step  3: Handle special cases\n",
        "    if ascii_value >  126:  # ASCII values for printable characters range from  32 to  126\n",
        "        ascii_value -=  95  # Adjust for wrap-around\n",
        "    elif ascii_value <  32:  # If below the printable range, adjust upwards\n",
        "        ascii_value +=  95\n",
        "\n",
        "    return ascii_value"
      ],
      "metadata": {
        "id": "PHCHvjyUYhmi"
      },
      "execution_count": 1,
      "outputs": []
    },
    {
      "cell_type": "code",
      "source": [
        "#part five\n",
        "def encrypt(text, shift):\n",
        "    encrypted_text = ''\n",
        "    for char in text:\n",
        "        if char.isalpha():\n",
        "            shifted_char = chr((ord(char.upper()) + shift -   65) %   26 +   65)\n",
        "            encrypted_text += shifted_char\n",
        "        else:\n",
        "            encrypted_text += char\n",
        "    return encrypted_text\n",
        "\n",
        "def decrypt(text, shift):\n",
        "    decrypted_text = ''\n",
        "    for char in text:\n",
        "        if char.isalpha():\n",
        "            shifted_char = chr((ord(char.upper()) - shift -   65) %   26 +   65)\n",
        "            decrypted_text += shifted_char\n",
        "        else:\n",
        "            decrypted_text += char\n",
        "    return decrypted_text\n",
        "\n",
        "user_need = input(\"Do you want to encrypt or decrypt? Type 'encrypt' or 'decrypt': \").lower()\n",
        "\n",
        "if user_need == \"encrypt\":\n",
        "    text = input(\"Please enter the text you want encrypted: \")\n",
        "    shift = int(input(\"Please enter shift number: \"))\n",
        "    encoded = encrypt(text, shift)\n",
        "    print(f\"Encrypted text: {encoded}\\n\\nEncryption completed!\")\n",
        "elif user_need == 'decrypt':\n",
        "    text = input(\"Please enter the text you want decrypted: \")\n",
        "    shift = int(input(\"Please enter shift number: \"))\n",
        "    decoded = decrypt(text, shift)\n",
        "    print(f\"Decrypted text: {decoded}\\n\\nDecryption completed!\")\n",
        "else:\n",
        "    print('Wrong input, try again.')\n"
      ],
      "metadata": {
        "colab": {
          "base_uri": "https://localhost:8080/"
        },
        "id": "4y7BqGfhaNuU",
        "outputId": "2cfb44d3-a661-4e7a-a417-3c2c26bf3dc6"
      },
      "execution_count": 2,
      "outputs": [
        {
          "output_type": "stream",
          "name": "stdout",
          "text": [
            "Do you want to encrypt or decrypt? Type 'encrypt' or 'decrypt': decrypt\n",
            "Please enter the text you want decrypted: iodgklnd\n",
            "Please enter shift number: 3\n",
            "Decrypted text: FLADHIKA\n",
            "\n",
            "Decryption completed!\n"
          ]
        }
      ]
    }
  ]
}